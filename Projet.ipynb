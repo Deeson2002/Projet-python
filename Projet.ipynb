{
 "cells": [
  {
   "cell_type": "markdown",
   "metadata": {},
   "source": [
    "# <u><span style=\"font-family: 'Times New Roman'; font-size: 60px;\">PROJET DE PYTHON POUR LA DATA SCIENCE</span></u>\n",
    "# $\\textrm{\\underline{THEME}}$:<span style=\"font-family: 'Times New Roman'; font-size: 40px;\"> Analyse des facteurs socio-démographiques et techniques influençant la gravité des accidents routiers en France.  </span>\n",
    "## $\\textrm{1. Contexte générale}$\n",
    "<span style=\"font-family: 'Times New Roman'; font-size: 16px;\"> &nbsp;&nbsp;&nbsp;&nbsp;Les accidents de la route représentent une problématique majeure de santé publique et de sécurité en France. Chaque année, malgré les nombreux progrès réalisés sur le plan de la sécurité routière(généralisations des radars automatiques, freinage automatique d'urgence, renforcement des infrastructures routières,...), des milliers de personnes sont impliquées dans des accidents, causant des blessures graves, des pertes humaines, et d'important dégâts matériels. Des disparités sont observées dans la gravité des accidents en fonction des caractéristiques des usagers, des véhicules, et des lieux où se produisent ces incidents. Les usagers de la route, par leurs comportements et leurs caractéristiques socio-démographiques (âge, sexe, rôle dans l’accident), jouent un rôle déterminant dans la survenue et la gravité des accidents. Parallèlement, les caractéristiques techniques des véhicules impliqués (type, ancienneté, nombre de passagers) influencent également l’issue des accidents. Enfin, les particularités des infrastructures routières et des zones géographiques contribuent à moduler la gravité des impacts. Dans ce contexte, il est essentiel d'analyser ces différents facteurs pour mieux comprendre leur influence sur la gravité des accidents routiers. Une telle analyse permettra d'identifier les populations et les types de véhicules les plus vulnérables, et de fournir des informations précieuses pour orienter les politiques de prévention et les initiatives visant à améliorer la sécurité routière. C'est dans ce cadre que s'inscrit ce projet. L’objectif est de dresser un portrait complet des facteurs socio-démographiques et techniques associés à la gravité des accidents, à travers des analyses descriptives et une modélisation statistique permettant de hiérarchiser ces facteurs.</span>\n",
    "\n",
    "## $\\textrm{1. Présentation des bases de données}$\n",
    "<span style=\"font-family: 'Times New Roman'; font-size: 16px;\"> &nbsp;&nbsp;&nbsp;&nbsp;Pour la mise en œuvre de ce projet, nous partirons de 4 base de données caract-2023, usagers-2023, lieux-2023, vehicules-2023 tous disponibles sur la plateforme [data.gouv](https://www.data.gouv.fr/fr/datasets/bases-de-donnees-annuelles-des-accidents-corporels-de-la-circulation-routiere-annees-de-2005-a-2023/) et fournissant respectivement des données sur les caractéristiques des accidents, les usagers, les lieux et les véhicules impliqués pour l'année 2023.  </span>\n",
    "\n",
    "\n"
   ]
  }
 ],
 "metadata": {
  "language_info": {
   "name": "python"
  }
 },
 "nbformat": 4,
 "nbformat_minor": 2
}
