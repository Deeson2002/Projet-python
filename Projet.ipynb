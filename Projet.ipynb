{
 "cells": [
  {
   "cell_type": "markdown",
   "metadata": {},
   "source": [
    "# $\\textrm{\\underline{PROJET DE PYTHON POUR LA DATA SCIENCE}}$  \n",
    "# $\\textrm{\\underline{THEME}: Influence des facteurs climatiques sur les accidents}$  \n",
    "## 1. Contexte générale"
   ]
  }
 ],
 "metadata": {
  "language_info": {
   "name": "python"
  }
 },
 "nbformat": 4,
 "nbformat_minor": 2
}
