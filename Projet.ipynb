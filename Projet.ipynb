{
 "cells": [
  {
   "cell_type": "markdown",
   "metadata": {},
   "source": [
    "# <u><span style=\"font-family: 'Times New Roman'; font-size: 60px;\">PROJET DE PYTHON POUR LA DATA SCIENCE</span></u>\n",
    "# <u>THEME</u>:<span style=\"font-family: 'Times New Roman'; font-size: 40px;\"> Analyse des facteurs socio-démographiques et techniques influençant la gravité des accidents routiers en France.  </span>\n",
    "## <u>1. Contexte générale</u>  \n",
    "<span style=\"font-family: 'Times New Roman'; font-size: 16px;\"> &nbsp;&nbsp;&nbsp;&nbsp;Les accidents de la route représentent une problématique majeure de santé publique et de sécurité en France. Chaque année, malgré les nombreux progrès réalisés sur le plan de la sécurité routière(généralisations des radars automatiques, freinage automatique d'urgence, renforcement des infrastructures routières,...), des milliers de personnes sont impliquées dans des accidents, causant des blessures graves, des pertes humaines, et d'important dégâts matériels. Des disparités sont observées dans la gravité des accidents en fonction des caractéristiques des usagers, des véhicules, et des lieux où se produisent ces incidents. Les usagers de la route, par leurs comportements et leurs caractéristiques socio-démographiques (âge, sexe, rôle dans l’accident), jouent un rôle déterminant dans la survenue et la gravité des accidents. Parallèlement, les caractéristiques techniques des véhicules impliqués (type, ancienneté, nombre de passagers) influencent également l’issue des accidents. Enfin, les particularités des infrastructures routières et des zones géographiques contribuent à moduler la gravité des impacts. Dans ce contexte, il est essentiel d'analyser ces différents facteurs pour mieux comprendre leur influence sur la gravité des accidents routiers. Une telle analyse permettra d'identifier les populations et les types de véhicules les plus vulnérables, et de fournir des informations précieuses pour orienter les politiques de prévention et les initiatives visant à améliorer la sécurité routière. C'est dans ce cadre que s'inscrit ce projet. L’objectif est de dresser un portrait complet des facteurs socio-démographiques et techniques associés à la gravité des accidents, à travers des analyses descriptives et une modélisation statistique permettant de hiérarchiser ces facteurs.</span>"
   ]
  },
  {
   "cell_type": "code",
   "execution_count": 2,
   "metadata": {},
   "outputs": [
    {
     "ename": "ModuleNotFoundError",
     "evalue": "No module named 'requests'",
     "output_type": "error",
     "traceback": [
      "\u001b[0;31m---------------------------------------------------------------------------\u001b[0m",
      "\u001b[0;31mModuleNotFoundError\u001b[0m                       Traceback (most recent call last)",
      "Cell \u001b[0;32mIn[2], line 1\u001b[0m\n\u001b[0;32m----> 1\u001b[0m \u001b[38;5;28;01mimport\u001b[39;00m \u001b[38;5;21;01mrequests\u001b[39;00m\n\u001b[1;32m      2\u001b[0m \u001b[38;5;28;01mfrom\u001b[39;00m \u001b[38;5;21;01mbs4\u001b[39;00m \u001b[38;5;28;01mimport\u001b[39;00m BeautifulSoup\n\u001b[1;32m      3\u001b[0m \u001b[38;5;28;01mimport\u001b[39;00m \u001b[38;5;21;01mpandas\u001b[39;00m \u001b[38;5;28;01mas\u001b[39;00m \u001b[38;5;21;01mpd\u001b[39;00m\n",
      "\u001b[0;31mModuleNotFoundError\u001b[0m: No module named 'requests'"
     ]
    }
   ],
   "source": [
    "import requests\n",
    "from bs4 import BeautifulSoup\n",
    "import pandas as pd\n",
    "\n",
    "# Étape 1 : URL de la page contenant le fichier CSV\n",
    "url_page = \"https://www.data.gouv.fr/fr/datasets/bases-de-donnees-annuelles-des-accidents-corporels-de-la-circulation-routiere-annees-de-2005-a-2023/#/resources/68848e2a-28dd-4efc-9d5f-d512f7dbe66f\"\n",
    "\n",
    "# Étape 2 : Charger le contenu HTML de la page\n",
    "response = requests.get(url_page)\n",
    "if response.status_code == 200:\n",
    "    soup = BeautifulSoup(response.text, 'html.parser')\n",
    "\n",
    "    # Étape 3 : Trouver le lien vers le fichier CSV\n",
    "    csv_link = None\n",
    "    for a in soup.find_all('a', href=True):\n",
    "        if '.csv' in a['href']:\n",
    "            csv_link = a['href']\n",
    "            break\n",
    "\n",
    "    # Étape 4 : Télécharger le fichier CSV si un lien est trouvé\n",
    "    if csv_link:\n",
    "        if csv_link.startswith('/'):  # Si le lien est relatif\n",
    "            csv_link = \"https://www.data.gouv.fr\" + csv_link\n",
    "        \n",
    "        print(f\"Téléchargement du fichier CSV depuis : {csv_link}\")\n",
    "        csv_response = requests.get(csv_link)\n",
    "\n",
    "        if csv_response.status_code == 200:\n",
    "            # Charger directement le fichier CSV dans une variable\n",
    "            from io import StringIO\n",
    "            data = pd.read_csv(StringIO(csv_response.text), sep=';')  # Adapter le séparateur ici (';' ou ',')\n",
    "            \n",
    "            # Afficher un aperçu des données\n",
    "            print(\"Fichier chargé avec succès dans la variable 'data'.\")\n",
    "            display(data.head())  # Affiche les 5 premières lignes\n",
    "\n",
    "        else:\n",
    "            print(f\"Erreur lors du téléchargement du fichier CSV : {csv_response.status_code}\")\n",
    "    else:\n",
    "        print(\"Lien vers le fichier CSV introuvable.\")\n",
    "else:\n",
    "    print(f\"Erreur lors de la requête HTTP : {response.status_code}\")"
   ]
  },
  {
   "cell_type": "markdown",
   "metadata": {},
   "source": []
  },
  {
   "cell_type": "code",
   "execution_count": null,
   "metadata": {},
   "outputs": [],
   "source": []
  }
 ],
 "metadata": {
  "kernelspec": {
   "display_name": "Python 3",
   "language": "python",
   "name": "python3"
  },
  "language_info": {
   "codemirror_mode": {
    "name": "ipython",
    "version": 3
   },
   "file_extension": ".py",
   "mimetype": "text/x-python",
   "name": "python",
   "nbconvert_exporter": "python",
   "pygments_lexer": "ipython3",
   "version": "3.10.12"
  }
 },
 "nbformat": 4,
 "nbformat_minor": 2
}
